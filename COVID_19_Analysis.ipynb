{
 "cells": [
  {
   "cell_type": "code",
   "execution_count": 25,
   "id": "509e8d0d",
   "metadata": {},
   "outputs": [],
   "source": [
    "import pandas as pd\n",
    "import numpy as np \n",
    "import matplotlib as plt\n",
    "import seaborn as sns"
   ]
  },
  {
   "cell_type": "code",
   "execution_count": 7,
   "id": "c3a93a4e",
   "metadata": {},
   "outputs": [
    {
     "data": {
      "text/html": [
       "<div>\n",
       "<style scoped>\n",
       "    .dataframe tbody tr th:only-of-type {\n",
       "        vertical-align: middle;\n",
       "    }\n",
       "\n",
       "    .dataframe tbody tr th {\n",
       "        vertical-align: top;\n",
       "    }\n",
       "\n",
       "    .dataframe thead th {\n",
       "        text-align: right;\n",
       "    }\n",
       "</style>\n",
       "<table border=\"1\" class=\"dataframe\">\n",
       "  <thead>\n",
       "    <tr style=\"text-align: right;\">\n",
       "      <th></th>\n",
       "      <th>Country</th>\n",
       "      <th>Date</th>\n",
       "      <th>New_Cases</th>\n",
       "      <th>New_Deaths</th>\n",
       "      <th>Total_Cases</th>\n",
       "      <th>Total_Deaths</th>\n",
       "    </tr>\n",
       "  </thead>\n",
       "  <tbody>\n",
       "    <tr>\n",
       "      <th>0</th>\n",
       "      <td>NaN</td>\n",
       "      <td>2020-01-01</td>\n",
       "      <td>NaN</td>\n",
       "      <td>NaN</td>\n",
       "      <td>96</td>\n",
       "      <td>4</td>\n",
       "    </tr>\n",
       "    <tr>\n",
       "      <th>1</th>\n",
       "      <td>India</td>\n",
       "      <td>2020-01-02</td>\n",
       "      <td>113.0</td>\n",
       "      <td>4.0</td>\n",
       "      <td>209</td>\n",
       "      <td>8</td>\n",
       "    </tr>\n",
       "    <tr>\n",
       "      <th>2</th>\n",
       "      <td>India</td>\n",
       "      <td>2020-01-03</td>\n",
       "      <td>90.0</td>\n",
       "      <td>5.0</td>\n",
       "      <td>299</td>\n",
       "      <td>13</td>\n",
       "    </tr>\n",
       "    <tr>\n",
       "      <th>3</th>\n",
       "      <td>India</td>\n",
       "      <td>2020-01-04</td>\n",
       "      <td>94.0</td>\n",
       "      <td>5.0</td>\n",
       "      <td>393</td>\n",
       "      <td>18</td>\n",
       "    </tr>\n",
       "    <tr>\n",
       "      <th>4</th>\n",
       "      <td>India</td>\n",
       "      <td>2020-01-05</td>\n",
       "      <td>103.0</td>\n",
       "      <td>5.0</td>\n",
       "      <td>496</td>\n",
       "      <td>23</td>\n",
       "    </tr>\n",
       "    <tr>\n",
       "      <th>...</th>\n",
       "      <td>...</td>\n",
       "      <td>...</td>\n",
       "      <td>...</td>\n",
       "      <td>...</td>\n",
       "      <td>...</td>\n",
       "      <td>...</td>\n",
       "    </tr>\n",
       "    <tr>\n",
       "      <th>1825</th>\n",
       "      <td>UK</td>\n",
       "      <td>2020-12-27</td>\n",
       "      <td>86.0</td>\n",
       "      <td>2.0</td>\n",
       "      <td>36100</td>\n",
       "      <td>1816</td>\n",
       "    </tr>\n",
       "    <tr>\n",
       "      <th>1826</th>\n",
       "      <td>UK</td>\n",
       "      <td>2020-12-28</td>\n",
       "      <td>105.0</td>\n",
       "      <td>4.0</td>\n",
       "      <td>36205</td>\n",
       "      <td>1820</td>\n",
       "    </tr>\n",
       "    <tr>\n",
       "      <th>1827</th>\n",
       "      <td>UK</td>\n",
       "      <td>2020-12-29</td>\n",
       "      <td>93.0</td>\n",
       "      <td>6.0</td>\n",
       "      <td>36298</td>\n",
       "      <td>1826</td>\n",
       "    </tr>\n",
       "    <tr>\n",
       "      <th>1828</th>\n",
       "      <td>UK</td>\n",
       "      <td>2020-12-30</td>\n",
       "      <td>101.0</td>\n",
       "      <td>5.0</td>\n",
       "      <td>36399</td>\n",
       "      <td>1831</td>\n",
       "    </tr>\n",
       "    <tr>\n",
       "      <th>1829</th>\n",
       "      <td>UK</td>\n",
       "      <td>2020-12-31</td>\n",
       "      <td>84.0</td>\n",
       "      <td>5.0</td>\n",
       "      <td>36483</td>\n",
       "      <td>1836</td>\n",
       "    </tr>\n",
       "  </tbody>\n",
       "</table>\n",
       "<p>1830 rows × 6 columns</p>\n",
       "</div>"
      ],
      "text/plain": [
       "     Country       Date  New_Cases  New_Deaths  Total_Cases  Total_Deaths\n",
       "0        NaN 2020-01-01        NaN         NaN           96             4\n",
       "1      India 2020-01-02      113.0         4.0          209             8\n",
       "2      India 2020-01-03       90.0         5.0          299            13\n",
       "3      India 2020-01-04       94.0         5.0          393            18\n",
       "4      India 2020-01-05      103.0         5.0          496            23\n",
       "...      ...        ...        ...         ...          ...           ...\n",
       "1825      UK 2020-12-27       86.0         2.0        36100          1816\n",
       "1826      UK 2020-12-28      105.0         4.0        36205          1820\n",
       "1827      UK 2020-12-29       93.0         6.0        36298          1826\n",
       "1828      UK 2020-12-30      101.0         5.0        36399          1831\n",
       "1829      UK 2020-12-31       84.0         5.0        36483          1836\n",
       "\n",
       "[1830 rows x 6 columns]"
      ]
     },
     "execution_count": 7,
     "metadata": {},
     "output_type": "execute_result"
    }
   ],
   "source": [
    "# Reading the CSV FILE \n",
    "df = pd.read_csv(r\"C:\\Users\\deepe\\Downloads\\covid19_sample_data.csv\", parse_dates=[\"Date\"])\n",
    "df"
   ]
  },
  {
   "cell_type": "code",
   "execution_count": 8,
   "id": "d5fe6477",
   "metadata": {},
   "outputs": [
    {
     "name": "stdout",
     "output_type": "stream",
     "text": [
      "<class 'pandas.core.frame.DataFrame'>\n",
      "RangeIndex: 1830 entries, 0 to 1829\n",
      "Data columns (total 6 columns):\n",
      " #   Column        Non-Null Count  Dtype         \n",
      "---  ------        --------------  -----         \n",
      " 0   Country       1820 non-null   object        \n",
      " 1   Date          1830 non-null   datetime64[ns]\n",
      " 2   New_Cases     1811 non-null   float64       \n",
      " 3   New_Deaths    1817 non-null   float64       \n",
      " 4   Total_Cases   1830 non-null   int64         \n",
      " 5   Total_Deaths  1830 non-null   int64         \n",
      "dtypes: datetime64[ns](1), float64(2), int64(2), object(1)\n",
      "memory usage: 85.9+ KB\n"
     ]
    }
   ],
   "source": [
    "# checkign the data info \n",
    "df.info()"
   ]
  },
  {
   "cell_type": "code",
   "execution_count": null,
   "id": "efe3b051",
   "metadata": {},
   "outputs": [],
   "source": [
    "# By info we know now we also have some data as null and there are in-constitent data type\n"
   ]
  },
  {
   "cell_type": "code",
   "execution_count": null,
   "id": "ce42b04e",
   "metadata": {},
   "outputs": [],
   "source": [
    "# Analysing the data \n",
    "df.head() # this will give as 5 starting rows "
   ]
  },
  {
   "cell_type": "markdown",
   "id": "de6680f3",
   "metadata": {},
   "source": [
    "# DATA CLEANING"
   ]
  },
  {
   "cell_type": "code",
   "execution_count": 11,
   "id": "b5412b66",
   "metadata": {},
   "outputs": [
    {
     "data": {
      "text/plain": [
       "Country         10\n",
       "Date             0\n",
       "New_Cases       19\n",
       "New_Deaths      13\n",
       "Total_Cases      0\n",
       "Total_Deaths     0\n",
       "dtype: int64"
      ]
     },
     "execution_count": 11,
     "metadata": {},
     "output_type": "execute_result"
    }
   ],
   "source": [
    "# CHECKING FOR THE MISSING VALUES \n",
    "df.isnull().sum()"
   ]
  },
  {
   "cell_type": "markdown",
   "id": "bf04392e",
   "metadata": {},
   "source": [
    "As we can see by above output that we have 3 columns where values are missing "
   ]
  },
  {
   "cell_type": "markdown",
   "id": "ae48fbf6",
   "metadata": {},
   "source": [
    "# Filling the missing values"
   ]
  },
  {
   "cell_type": "code",
   "execution_count": 12,
   "id": "6872dc83",
   "metadata": {},
   "outputs": [
    {
     "data": {
      "text/html": [
       "<div>\n",
       "<style scoped>\n",
       "    .dataframe tbody tr th:only-of-type {\n",
       "        vertical-align: middle;\n",
       "    }\n",
       "\n",
       "    .dataframe tbody tr th {\n",
       "        vertical-align: top;\n",
       "    }\n",
       "\n",
       "    .dataframe thead th {\n",
       "        text-align: right;\n",
       "    }\n",
       "</style>\n",
       "<table border=\"1\" class=\"dataframe\">\n",
       "  <thead>\n",
       "    <tr style=\"text-align: right;\">\n",
       "      <th></th>\n",
       "      <th>Country</th>\n",
       "      <th>Date</th>\n",
       "      <th>New_Cases</th>\n",
       "      <th>New_Deaths</th>\n",
       "      <th>Total_Cases</th>\n",
       "      <th>Total_Deaths</th>\n",
       "    </tr>\n",
       "  </thead>\n",
       "  <tbody>\n",
       "    <tr>\n",
       "      <th>0</th>\n",
       "      <td>NaN</td>\n",
       "      <td>2020-01-01</td>\n",
       "      <td>0.0</td>\n",
       "      <td>NaN</td>\n",
       "      <td>96</td>\n",
       "      <td>4</td>\n",
       "    </tr>\n",
       "    <tr>\n",
       "      <th>1</th>\n",
       "      <td>India</td>\n",
       "      <td>2020-01-02</td>\n",
       "      <td>113.0</td>\n",
       "      <td>4.0</td>\n",
       "      <td>209</td>\n",
       "      <td>8</td>\n",
       "    </tr>\n",
       "    <tr>\n",
       "      <th>2</th>\n",
       "      <td>India</td>\n",
       "      <td>2020-01-03</td>\n",
       "      <td>90.0</td>\n",
       "      <td>5.0</td>\n",
       "      <td>299</td>\n",
       "      <td>13</td>\n",
       "    </tr>\n",
       "    <tr>\n",
       "      <th>3</th>\n",
       "      <td>India</td>\n",
       "      <td>2020-01-04</td>\n",
       "      <td>94.0</td>\n",
       "      <td>5.0</td>\n",
       "      <td>393</td>\n",
       "      <td>18</td>\n",
       "    </tr>\n",
       "    <tr>\n",
       "      <th>4</th>\n",
       "      <td>India</td>\n",
       "      <td>2020-01-05</td>\n",
       "      <td>103.0</td>\n",
       "      <td>5.0</td>\n",
       "      <td>496</td>\n",
       "      <td>23</td>\n",
       "    </tr>\n",
       "  </tbody>\n",
       "</table>\n",
       "</div>"
      ],
      "text/plain": [
       "  Country       Date  New_Cases  New_Deaths  Total_Cases  Total_Deaths\n",
       "0     NaN 2020-01-01        0.0         NaN           96             4\n",
       "1   India 2020-01-02      113.0         4.0          209             8\n",
       "2   India 2020-01-03       90.0         5.0          299            13\n",
       "3   India 2020-01-04       94.0         5.0          393            18\n",
       "4   India 2020-01-05      103.0         5.0          496            23"
      ]
     },
     "execution_count": 12,
     "metadata": {},
     "output_type": "execute_result"
    }
   ],
   "source": [
    "df['New_Cases'].fillna(0, inplace=True) # this will fill the values in New_Cases\n",
    "df.head()"
   ]
  },
  {
   "cell_type": "code",
   "execution_count": 13,
   "id": "cd3e0928",
   "metadata": {},
   "outputs": [
    {
     "data": {
      "text/html": [
       "<div>\n",
       "<style scoped>\n",
       "    .dataframe tbody tr th:only-of-type {\n",
       "        vertical-align: middle;\n",
       "    }\n",
       "\n",
       "    .dataframe tbody tr th {\n",
       "        vertical-align: top;\n",
       "    }\n",
       "\n",
       "    .dataframe thead th {\n",
       "        text-align: right;\n",
       "    }\n",
       "</style>\n",
       "<table border=\"1\" class=\"dataframe\">\n",
       "  <thead>\n",
       "    <tr style=\"text-align: right;\">\n",
       "      <th></th>\n",
       "      <th>Country</th>\n",
       "      <th>Date</th>\n",
       "      <th>New_Cases</th>\n",
       "      <th>New_Deaths</th>\n",
       "      <th>Total_Cases</th>\n",
       "      <th>Total_Deaths</th>\n",
       "    </tr>\n",
       "  </thead>\n",
       "  <tbody>\n",
       "    <tr>\n",
       "      <th>0</th>\n",
       "      <td>NaN</td>\n",
       "      <td>2020-01-01</td>\n",
       "      <td>0.0</td>\n",
       "      <td>0.0</td>\n",
       "      <td>96</td>\n",
       "      <td>4</td>\n",
       "    </tr>\n",
       "    <tr>\n",
       "      <th>1</th>\n",
       "      <td>India</td>\n",
       "      <td>2020-01-02</td>\n",
       "      <td>113.0</td>\n",
       "      <td>4.0</td>\n",
       "      <td>209</td>\n",
       "      <td>8</td>\n",
       "    </tr>\n",
       "    <tr>\n",
       "      <th>2</th>\n",
       "      <td>India</td>\n",
       "      <td>2020-01-03</td>\n",
       "      <td>90.0</td>\n",
       "      <td>5.0</td>\n",
       "      <td>299</td>\n",
       "      <td>13</td>\n",
       "    </tr>\n",
       "    <tr>\n",
       "      <th>3</th>\n",
       "      <td>India</td>\n",
       "      <td>2020-01-04</td>\n",
       "      <td>94.0</td>\n",
       "      <td>5.0</td>\n",
       "      <td>393</td>\n",
       "      <td>18</td>\n",
       "    </tr>\n",
       "    <tr>\n",
       "      <th>4</th>\n",
       "      <td>India</td>\n",
       "      <td>2020-01-05</td>\n",
       "      <td>103.0</td>\n",
       "      <td>5.0</td>\n",
       "      <td>496</td>\n",
       "      <td>23</td>\n",
       "    </tr>\n",
       "  </tbody>\n",
       "</table>\n",
       "</div>"
      ],
      "text/plain": [
       "  Country       Date  New_Cases  New_Deaths  Total_Cases  Total_Deaths\n",
       "0     NaN 2020-01-01        0.0         0.0           96             4\n",
       "1   India 2020-01-02      113.0         4.0          209             8\n",
       "2   India 2020-01-03       90.0         5.0          299            13\n",
       "3   India 2020-01-04       94.0         5.0          393            18\n",
       "4   India 2020-01-05      103.0         5.0          496            23"
      ]
     },
     "execution_count": 13,
     "metadata": {},
     "output_type": "execute_result"
    }
   ],
   "source": [
    "df['New_Deaths'].fillna(0, inplace=True) # this will fill the values in New_Deaths\n",
    "df.head()"
   ]
  },
  {
   "cell_type": "markdown",
   "id": "55966f6b",
   "metadata": {},
   "source": [
    "We can still see of the country's name is null but we also need that too bcoz they have some imp data like total_deaths & total cases"
   ]
  },
  {
   "cell_type": "code",
   "execution_count": 14,
   "id": "f3b7645a",
   "metadata": {},
   "outputs": [
    {
     "data": {
      "text/html": [
       "<div>\n",
       "<style scoped>\n",
       "    .dataframe tbody tr th:only-of-type {\n",
       "        vertical-align: middle;\n",
       "    }\n",
       "\n",
       "    .dataframe tbody tr th {\n",
       "        vertical-align: top;\n",
       "    }\n",
       "\n",
       "    .dataframe thead th {\n",
       "        text-align: right;\n",
       "    }\n",
       "</style>\n",
       "<table border=\"1\" class=\"dataframe\">\n",
       "  <thead>\n",
       "    <tr style=\"text-align: right;\">\n",
       "      <th></th>\n",
       "      <th>Country</th>\n",
       "      <th>Date</th>\n",
       "      <th>New_Cases</th>\n",
       "      <th>New_Deaths</th>\n",
       "      <th>Total_Cases</th>\n",
       "      <th>Total_Deaths</th>\n",
       "    </tr>\n",
       "  </thead>\n",
       "  <tbody>\n",
       "    <tr>\n",
       "      <th>0</th>\n",
       "      <td>Unknown</td>\n",
       "      <td>2020-01-01</td>\n",
       "      <td>0.0</td>\n",
       "      <td>0.0</td>\n",
       "      <td>96</td>\n",
       "      <td>4</td>\n",
       "    </tr>\n",
       "    <tr>\n",
       "      <th>1</th>\n",
       "      <td>India</td>\n",
       "      <td>2020-01-02</td>\n",
       "      <td>113.0</td>\n",
       "      <td>4.0</td>\n",
       "      <td>209</td>\n",
       "      <td>8</td>\n",
       "    </tr>\n",
       "    <tr>\n",
       "      <th>2</th>\n",
       "      <td>India</td>\n",
       "      <td>2020-01-03</td>\n",
       "      <td>90.0</td>\n",
       "      <td>5.0</td>\n",
       "      <td>299</td>\n",
       "      <td>13</td>\n",
       "    </tr>\n",
       "    <tr>\n",
       "      <th>3</th>\n",
       "      <td>India</td>\n",
       "      <td>2020-01-04</td>\n",
       "      <td>94.0</td>\n",
       "      <td>5.0</td>\n",
       "      <td>393</td>\n",
       "      <td>18</td>\n",
       "    </tr>\n",
       "    <tr>\n",
       "      <th>4</th>\n",
       "      <td>India</td>\n",
       "      <td>2020-01-05</td>\n",
       "      <td>103.0</td>\n",
       "      <td>5.0</td>\n",
       "      <td>496</td>\n",
       "      <td>23</td>\n",
       "    </tr>\n",
       "  </tbody>\n",
       "</table>\n",
       "</div>"
      ],
      "text/plain": [
       "   Country       Date  New_Cases  New_Deaths  Total_Cases  Total_Deaths\n",
       "0  Unknown 2020-01-01        0.0         0.0           96             4\n",
       "1    India 2020-01-02      113.0         4.0          209             8\n",
       "2    India 2020-01-03       90.0         5.0          299            13\n",
       "3    India 2020-01-04       94.0         5.0          393            18\n",
       "4    India 2020-01-05      103.0         5.0          496            23"
      ]
     },
     "execution_count": 14,
     "metadata": {},
     "output_type": "execute_result"
    }
   ],
   "source": [
    "df['Country'].fillna('Unknown', inplace = True) # this will fill empty country as Un-known\n",
    "df.head()"
   ]
  },
  {
   "cell_type": "code",
   "execution_count": 15,
   "id": "7c3d13fb",
   "metadata": {},
   "outputs": [],
   "source": [
    "# checking if we do not have any negative values \n",
    "#df = df[(df['New_Cases'] >= 0) & (df['New_Deaths'] >= 0)]\n",
    "df = df[(df['New_Cases'] >= 0) & (df['New_Deaths'] >=0) ]"
   ]
  },
  {
   "cell_type": "code",
   "execution_count": 16,
   "id": "f4b89830",
   "metadata": {},
   "outputs": [
    {
     "name": "stdout",
     "output_type": "stream",
     "text": [
      "      Country       Date  New_Cases  New_Deaths  Total_Cases  Total_Deaths\n",
      "0     Unknown 2020-01-01        0.0         0.0           96             4\n",
      "1       India 2020-01-02      113.0         4.0          209             8\n",
      "2       India 2020-01-03       90.0         5.0          299            13\n",
      "3       India 2020-01-04       94.0         5.0          393            18\n",
      "4       India 2020-01-05      103.0         5.0          496            23\n",
      "...       ...        ...        ...         ...          ...           ...\n",
      "1825       UK 2020-12-27       86.0         2.0        36100          1816\n",
      "1826       UK 2020-12-28      105.0         4.0        36205          1820\n",
      "1827       UK 2020-12-29       93.0         6.0        36298          1826\n",
      "1828       UK 2020-12-30      101.0         5.0        36399          1831\n",
      "1829       UK 2020-12-31       84.0         5.0        36483          1836\n",
      "\n",
      "[1830 rows x 6 columns]\n"
     ]
    }
   ],
   "source": [
    "print(df)"
   ]
  },
  {
   "cell_type": "markdown",
   "id": "769ad222",
   "metadata": {},
   "source": [
    "# Seeking the Insights"
   ]
  },
  {
   "cell_type": "code",
   "execution_count": 17,
   "id": "f7e5dd41",
   "metadata": {},
   "outputs": [
    {
     "name": "stdout",
     "output_type": "stream",
     "text": [
      "\n",
      "Summary stats per country:\n",
      "         Total_Cases  Total_Deaths\n",
      "Country                           \n",
      "Brazil         36996          1724\n",
      "India          36954          1778\n",
      "Russia         36680          1909\n",
      "UK             36483          1836\n",
      "USA            36439          1810\n",
      "Unknown        33621          1709\n"
     ]
    }
   ],
   "source": [
    "# Total cases & death per country \n",
    "summary = df.groupby('Country')[['Total_Cases', 'Total_Deaths']].max().sort_values(by='Total_Cases', ascending=False)\n",
    "print(\"\\nSummary stats per country:\")\n",
    "print(summary)"
   ]
  },
  {
   "cell_type": "code",
   "execution_count": 18,
   "id": "83cb99df",
   "metadata": {},
   "outputs": [
    {
     "name": "stdout",
     "output_type": "stream",
     "text": [
      "\n",
      "Peak case days per country:\n",
      "      Country       Date  New_Cases\n",
      "785    Brazil 2020-02-23      128.0\n",
      "168     India 2020-06-17      132.0\n",
      "1313   Russia 2020-08-03      130.0\n",
      "1565       UK 2020-04-11      134.0\n",
      "368       USA 2020-01-03      131.0\n",
      "0     Unknown 2020-01-01        0.0\n"
     ]
    }
   ],
   "source": [
    "# Peak day of new cases per country\n",
    "peak_cases = df.loc[df.groupby(\"Country\")[\"New_Cases\"].idxmax()][[\"Country\", \"Date\", \"New_Cases\"]]\n",
    "print(\"\\nPeak case days per country:\")\n",
    "print(peak_cases)"
   ]
  },
  {
   "cell_type": "code",
   "execution_count": 26,
   "id": "0da488a1",
   "metadata": {},
   "outputs": [
    {
     "data": {
      "image/png": "[encoded data removed]",
      "text/plain": [
       "<Figure size 1200x500 with 1 Axes>"
      ]
     },
     "metadata": {},
     "output_type": "display_data"
    }
   ],
   "source": [
    "# Plot new cases trend for India\n",
    "import matplotlib.pyplot as plt\n",
    "india_data = df[df['Country'] == 'India']\n",
    "plt.figure(figsize=(12, 5))\n",
    "sns.lineplot(data=india_data, x='Date', y='New_Cases')\n",
    "plt.title(\"Daily New Cases in India\")\n",
    "plt.xlabel(\"Date\")\n",
    "plt.ylabel(\"New Cases\")\n",
    "plt.tight_layout()\n",
    "plt.show()"
   ]
  },
  {
   "cell_type": "markdown",
   "id": "496d416c",
   "metadata": {},
   "source": [
    "By the graph we can clearly see the new cases "
   ]
  }
 ],
 "metadata": {
  "kernelspec": {
   "display_name": "Python 3",
   "language": "python",
   "name": "python3"
  },
  "language_info": {
   "codemirror_mode": {
    "name": "ipython",
    "version": 3
   },
   "file_extension": ".py",
   "mimetype": "text/x-python",
   "name": "python",
   "nbconvert_exporter": "python",
   "pygments_lexer": "ipython3",
   "version": "3.11.5"
  }
 },
 "nbformat": 4,
 "nbformat_minor": 5
}
